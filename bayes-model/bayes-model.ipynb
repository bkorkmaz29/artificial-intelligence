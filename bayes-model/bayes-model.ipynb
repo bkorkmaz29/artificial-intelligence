{
 "cells": [
  {
   "cell_type": "code",
   "execution_count": null,
   "metadata": {},
   "outputs": [],
   "source": [
    "import numpy as np\n",
    "import pandas as pd\n",
    "from sklearn.preprocessing import LabelEncoder\n",
    "from sklearn.naive_bayes import GaussianNB, BernoulliNB\n",
    "from sklearn.model_selection import train_test_split\n",
    "from sklearn.metrics import accuracy_score"
   ]
  },
  {
   "cell_type": "code",
   "execution_count": null,
   "metadata": {},
   "outputs": [],
   "source": [
    "# dataset: https://www.kaggle.com/datasets/kaushil268/disease-prediction-using-machine-learning\n",
    "data_train = pd.read_csv(\"Training.csv\").dropna(axis = 1)\n",
    "data = data_train.copy()\n",
    "data_test = pd.read_csv(\"Testing.csv\").dropna(axis = 1)"
   ]
  },
  {
   "cell_type": "code",
   "execution_count": null,
   "metadata": {},
   "outputs": [],
   "source": [
    "X = data_train.iloc[:,:-1]\n",
    "Y = data_train.iloc[:, -1]\n",
    "\n",
    "# Split data for testing on Training set\n",
    "x_train, x_test, y_train, y_test = train_test_split(X, Y, test_size=0.2, random_state=12)\n",
    "\n",
    "print(x_train.shape)\n",
    "print(x_test.shape)"
   ]
  },
  {
   "cell_type": "code",
   "execution_count": null,
   "metadata": {},
   "outputs": [],
   "source": [
    "# Training set prediction for Gaussian NB\n",
    "\n",
    "nb_model = GaussianNB()\n",
    "nb_model.fit(x_train, y_train)\n",
    "\n",
    "train_preds = nb_model.predict(x_test)\n",
    "print(f\"Accuracy on Training dataset\\\n",
    ": {accuracy_score(y_test, train_preds)*100}\\n\")\n"
   ]
  },
  {
   "cell_type": "code",
   "execution_count": null,
   "metadata": {},
   "outputs": [],
   "source": [
    "# Testing set prediction for Gaussian NB\n",
    "\n",
    "X_test = data_test.iloc[:, :-1]\n",
    "Y_test = data_test.iloc[:, -1]\n",
    "\n",
    "\n",
    "test_preds = nb_model.predict(X_test)\n",
    "\n",
    "print(f\"Accuracy on Test dataset\\\n",
    ": {accuracy_score(Y_test, test_preds)*100} \\n\")\n",
    "for i in range(len(test_preds)):\n",
    "    print(test_preds[i] + \"---\" + Y_test[i])"
   ]
  },
  {
   "cell_type": "code",
   "execution_count": null,
   "metadata": {},
   "outputs": [],
   "source": [
    "# Testing set prediction for Bernoulli NB\n",
    "\n",
    "bnb_model = BernoulliNB()\n",
    "bnb_model.fit(X, Y)\n",
    "test_preds = bnb_model.predict(X_test)\n",
    "print(f\"Accuracy on Test dataset\\\n",
    ": {accuracy_score(Y_test, test_preds)*100}\\n\")\n",
    "for i in range(len(test_preds)):\n",
    "    print(test_preds[i] + \"---\" + Y_test[i])"
   ]
  },
  {
   "cell_type": "code",
   "execution_count": null,
   "metadata": {},
   "outputs": [],
   "source": [
    "# Cross Value Scores\n",
    "\n",
    "from sklearn.model_selection import cross_val_score\n",
    "scores = cross_val_score(nb_model, x_train, y_train, scoring='accuracy', cv=10) \n",
    "print(scores)"
   ]
  }
 ],
 "metadata": {
  "kernelspec": {
   "display_name": "Python 3",
   "language": "python",
   "name": "python3"
  },
  "language_info": {
   "codemirror_mode": {
    "name": "ipython",
    "version": 3
   },
   "file_extension": ".py",
   "mimetype": "text/x-python",
   "name": "python",
   "nbconvert_exporter": "python",
   "pygments_lexer": "ipython3",
   "version": "3.8.5"
  }
 },
 "nbformat": 4,
 "nbformat_minor": 4
}
