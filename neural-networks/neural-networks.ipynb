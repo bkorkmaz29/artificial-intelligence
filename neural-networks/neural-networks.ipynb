{
 "cells": [
  {
   "cell_type": "code",
   "execution_count": null,
   "metadata": {},
   "outputs": [],
   "source": [
    "import pandas as pd\n",
    "import tensorflow as tf\n",
    "import tensorflow_datasets as tfds\n",
    "import warnings\n",
    "warnings.filterwarnings('ignore')\n",
    "import logging\n",
    "logger = tf.get_logger()\n",
    "logger.setLevel(logging.ERROR)"
   ]
  },
  {
   "cell_type": "code",
   "execution_count": null,
   "metadata": {},
   "outputs": [],
   "source": [
    "# Reading the dataset\n",
    "train_df=pd.read_csv('https://raw.githubusercontent.com/bkorkmaz29/artificial-intelligence/main/Ex5/data/X_train.csv')\n",
    "train_df_label=pd.read_csv('https://raw.githubusercontent.com/bkorkmaz29/artificial-intelligence/main/Ex5/data/y_train.csv')\n",
    "\n",
    "test_df=pd.read_csv('https://raw.githubusercontent.com/bkorkmaz29/artificial-intelligence/main/Ex5/data/X_test.csv')\n",
    "test_df_label=pd.read_csv('https://raw.githubusercontent.com/bkorkmaz29/artificial-intelligence/main/Ex5/data/y_test.csv')\n",
    "\n",
    "# Normalizing images\n",
    "def normalize(image, label):\n",
    "    image = tf.cast(image, tf.float32)\n",
    "    image /= 255\n",
    "    return image, label\n",
    "\n",
    "\n",
    "num_training_examples = len(train_df)\n",
    "dataset = tf.data.Dataset.from_tensor_slices((train_df.values.reshape(-1, 32, 32,1), train_df_label.to_numpy()))\n",
    "\n",
    "num_test_examples = len(test_df)\n",
    "dataset_test = tf.data.Dataset.from_tensor_slices((test_df.values.reshape(-1, 32, 32,1), test_df_label.to_numpy()))\n",
    "\n",
    "batch_size = 32\n",
    "\n",
    "training_batches = dataset.cache().shuffle(num_training_examples//4).map(normalize).batch(batch_size).prefetch(1)\n",
    "testing_batches = dataset.cache().shuffle(num_test_examples//4).map(normalize).batch(batch_size).prefetch(1)\n"
   ]
  },
  {
   "cell_type": "code",
   "execution_count": null,
   "metadata": {},
   "outputs": [],
   "source": [
    "# Neural network initiation\n",
    "my_model = tf.keras.Sequential([\n",
    "           tf.keras.layers.Flatten(input_shape = (32,32,1)),\n",
    "           tf.keras.layers.Dense(512, activation = 'relu'),\n",
    "           tf.keras.layers.Dense(256, activation = 'relu'),\n",
    "           tf.keras.layers.Dense(30, activation = 'softmax')\n",
    "])\n",
    "\n",
    "print(my_model.summary())"
   ]
  },
  {
   "cell_type": "code",
   "execution_count": null,
   "metadata": {},
   "outputs": [],
   "source": [
    "# Training\n",
    "\n",
    "my_model.compile(optimizer='Adam',\n",
    "                 loss='sparse_categorical_crossentropy',\n",
    "                 metrics=['accuracy'])\n",
    "\n",
    "EPOCHS = 50\n",
    "\n",
    "early_stop=tf.keras.callbacks.EarlyStopping(\n",
    "    monitor='loss', patience=2, \n",
    ")\n",
    "\n",
    "history = my_model.fit(training_batches, epochs = EPOCHS, callbacks=[early_stop])"
   ]
  },
  {
   "cell_type": "code",
   "execution_count": null,
   "metadata": {},
   "outputs": [],
   "source": [
    "# Testing the model\n",
    "\n",
    "for image_batch, label_batch in testing_batches.take(1):\n",
    "    loss, accuracy = my_model.evaluate(image_batch, label_batch)\n",
    "\n",
    "print('\\nTesting Loss : {:,.3f}'.format(loss))\n",
    "print(' Testing Accuracy : {:.3%}'.format(accuracy))"
   ]
  }
 ],
 "metadata": {
  "kernelspec": {
   "display_name": "Python 3",
   "language": "python",
   "name": "python3"
  },
  "language_info": {
   "codemirror_mode": {
    "name": "ipython",
    "version": 3
   },
   "file_extension": ".py",
   "mimetype": "text/x-python",
   "name": "python",
   "nbconvert_exporter": "python",
   "pygments_lexer": "ipython3",
   "version": "3.8.5"
  }
 },
 "nbformat": 4,
 "nbformat_minor": 4
}
